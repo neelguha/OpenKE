{
 "cells": [
  {
   "cell_type": "code",
   "execution_count": 2,
   "metadata": {},
   "outputs": [],
   "source": [
    "%load_ext autoreload\n",
    "%autoreload 2"
   ]
  },
  {
   "cell_type": "code",
   "execution_count": 18,
   "metadata": {},
   "outputs": [],
   "source": [
    "import json, os, sys\n",
    "import numpy as np\n",
    "from entity_matching import data_utils, binary_resnet, model_utils\n",
    "\n",
    "import torch.optim as optim\n",
    "from  torch import nn"
   ]
  },
  {
   "cell_type": "code",
   "execution_count": 22,
   "metadata": {},
   "outputs": [],
   "source": [
    "sys.path.append('../dice')\n",
    "from metrics import em_metrics"
   ]
  },
  {
   "cell_type": "code",
   "execution_count": 4,
   "metadata": {},
   "outputs": [],
   "source": [
    "wd_emb_fpath = 'result/TransE/uniform500_wd/params_37/results/TransE.json'\n",
    "mbz_emb_fpath = 'result/TransE/uniform500_mbz/params_7/results/TransE.json'\n",
    "data_dir = '../dice/data/uniform500'"
   ]
  },
  {
   "cell_type": "code",
   "execution_count": 5,
   "metadata": {},
   "outputs": [],
   "source": [
    "# load datasets and embeddings \n",
    "train_loader, val_loader, test_loader = data_utils.get_loaders(data_dir)\n",
    "mbz_emb = data_utils.load_entity_embeddings(mbz_emb_fpath)\n",
    "wd_emb = data_utils.load_entity_embeddings(wd_emb_fpath)\n",
    "\n"
   ]
  },
  {
   "cell_type": "code",
   "execution_count": 15,
   "metadata": {},
   "outputs": [],
   "source": [
    "# load candidate tails \n",
    "candidates = data_utils.load_candidates(data_dir)\n",
    "\n",
    "# load mbz types (for metrics)\n",
    "mbz_index2type = data_utils.load_etypes(data_dir)"
   ]
  },
  {
   "cell_type": "code",
   "execution_count": 6,
   "metadata": {},
   "outputs": [],
   "source": [
    "# initialize different \n",
    "model = binary_resnet.BinResNet(mbz_emb, wd_emb)\n",
    "optimizer = optim.SGD(model.parameters(), lr=0.01, momentum=0.5)\n",
    "loss = nn.CrossEntropyLoss()"
   ]
  },
  {
   "cell_type": "code",
   "execution_count": 8,
   "metadata": {},
   "outputs": [
    {
     "name": "stdout",
     "output_type": "stream",
     "text": [
      "Train Epoch: 0 \tLoss: 0.692926 \tTime: 27.94 seconds\n"
     ]
    }
   ],
   "source": [
    "model_utils.train(model, optimizer, loss, train_loader, val_loader, candidates, 1, 'cpu', log_interval=1, num_epochs=1)"
   ]
  },
  {
   "cell_type": "code",
   "execution_count": 27,
   "metadata": {},
   "outputs": [
    {
     "name": "stderr",
     "output_type": "stream",
     "text": [
      "  0%|          | 0/154 [00:00<?, ?it/s]\n"
     ]
    }
   ],
   "source": [
    "x, y_trues, y_preds = model_utils.evaluate_model(model, test_loader, candidates)"
   ]
  },
  {
   "cell_type": "code",
   "execution_count": 28,
   "metadata": {},
   "outputs": [],
   "source": [
    "metrics = em_metrics.evaluate_em(x, y_trues, y_preds, mbz_index2type)"
   ]
  },
  {
   "cell_type": "code",
   "execution_count": 29,
   "metadata": {},
   "outputs": [
    {
     "data": {
      "text/plain": [
       "defaultdict(<function metrics.em_metrics.evaluate_em.<locals>.<lambda>>,\n",
       "            {'total': {'count': 1,\n",
       "              'fn': 1,\n",
       "              'fp': 0,\n",
       "              'precision': 'Na',\n",
       "              'recall': 0.0,\n",
       "              'tn': 0,\n",
       "              'tp': 0},\n",
       "             'work': defaultdict(int,\n",
       "                         {'count': 1,\n",
       "                          'fn': 1,\n",
       "                          'fp': 0,\n",
       "                          'precision': 'Na',\n",
       "                          'recall': 0.0,\n",
       "                          'tn': 0,\n",
       "                          'tp': 0})})"
      ]
     },
     "execution_count": 29,
     "metadata": {},
     "output_type": "execute_result"
    }
   ],
   "source": [
    "metrics"
   ]
  },
  {
   "cell_type": "code",
   "execution_count": null,
   "metadata": {},
   "outputs": [],
   "source": []
  }
 ],
 "metadata": {
  "kernelspec": {
   "display_name": "Python 3",
   "language": "python",
   "name": "python3"
  },
  "language_info": {
   "codemirror_mode": {
    "name": "ipython",
    "version": 3
   },
   "file_extension": ".py",
   "mimetype": "text/x-python",
   "name": "python",
   "nbconvert_exporter": "python",
   "pygments_lexer": "ipython3",
   "version": "3.6.4"
  }
 },
 "nbformat": 4,
 "nbformat_minor": 2
}
